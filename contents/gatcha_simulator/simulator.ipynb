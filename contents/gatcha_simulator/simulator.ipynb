{
 "cells": [
  {
   "cell_type": "code",
   "execution_count": 2,
   "metadata": {},
   "outputs": [],
   "source": [
    "from dataclasses import dataclass\n",
    "\n",
    "import numpy as np"
   ]
  },
  {
   "cell_type": "code",
   "execution_count": 3,
   "metadata": {},
   "outputs": [],
   "source": [
    "@dataclass\n",
    "class ProbProfile:\n",
    "    name: str\n",
    "    items: list[str]\n",
    "    probs: np.ndarray\n",
    "\n",
    "\n",
    "class StackConfig:\n",
    "    def __init__(self, profile: ProbProfile):\n",
    "        pass\n",
    "\n",
    "\n",
    "class Roullette:\n",
    "    def __init__(self, profile: ProbProfile, stack_config: StackConfig):\n",
    "        self.profile = profile\n",
    "        self.stack_config = stack_config\n",
    "        self.result = dict(zip(profile.items, [0] * len(profile.items)))\n",
    "\n",
    "    def spin(self):\n",
    "        return np.random.choice(self.profile.items, p=self.profile.probs)\n",
    "\n",
    "\n",
    "class Simulator:\n",
    "    def __init__(self, n_roullettes: int, n_spins: int):\n",
    "        self.n_roullettes = n_roullettes\n",
    "        self.n_spins = n_spins"
   ]
  },
  {
   "cell_type": "code",
   "execution_count": 4,
   "metadata": {},
   "outputs": [],
   "source": [
    "profile = ProbProfile(\"Normal\", [\"A\", \"B\", \"C\"], np.array([0.1, 0.2, 0.7]))\n",
    "profile.probs"
   ]
  },
  {
   "cell_type": "code",
   "execution_count": null,
   "metadata": {},
   "outputs": [],
   "source": []
  }
 ],
 "metadata": {
  "kernelspec": {
   "display_name": "blog-with-code-nyJ_vejH-py3.10",
   "language": "python",
   "name": "python3"
  },
  "language_info": {
   "codemirror_mode": {
    "name": "ipython",
    "version": 3
   },
   "file_extension": ".py",
   "mimetype": "text/x-python",
   "name": "python",
   "nbconvert_exporter": "python",
   "pygments_lexer": "ipython3",
   "version": "3.10.8"
  }
 },
 "nbformat": 4,
 "nbformat_minor": 2
}
