{
 "cells": [
  {
   "cell_type": "markdown",
   "metadata": {},
   "source": [
    "# Polars Style Guide\n",
    "- Polars와 PySpark는 문법적으로 유사한 점이 많다.\n",
    "- PySpark를 통해 데이터 처리를 자동화하다보면 코드가 복잡해지고 스키마를 알아보기 힘든 경우가 많다.\n",
    "- 데이터 파이프라인을 잘 운영하려면 어느 정도 스타일이 정해져 있어서 가독성을 챙겨야 한다.\n",
    "- 최대한 SQL 문법에 가깝게 작성할 수록 좋다.\n",
    "- TODO: Prefect 라이브러리를 통해 데이터 파이프라인을 정의하자.\n"
   ]
  },
  {
   "cell_type": "code",
   "execution_count": 2,
   "metadata": {},
   "outputs": [],
   "source": [
    "import pandas as pd\n",
    "import polars as pl"
   ]
  },
  {
   "cell_type": "code",
   "execution_count": 8,
   "metadata": {},
   "outputs": [],
   "source": [
    "import requests\n",
    "\n",
    "res = requests.get(\"https://gist.githubusercontent.com/ritchie46/cac6b337ea52281aa23c049250a4ff03/raw/89a957ff3919d90e6ef2d34235e6bf22304f3366/pokemon.csv\")\n",
    "with open(\"./data/pokemon.csv\", \"w\") as f:\n",
    "    f.write(res.text)"
   ]
  },
  {
   "cell_type": "code",
   "execution_count": 9,
   "metadata": {},
   "outputs": [],
   "source": [
    "pd_df = pd.read_csv(\"./data/pokemon.csv\")\n",
    "pl_df = pl.read_csv(\"./data/pokemon.csv\")"
   ]
  },
  {
   "cell_type": "code",
   "execution_count": 20,
   "metadata": {},
   "outputs": [
    {
     "data": {
      "text/html": [
       "<div><style>\n",
       ".dataframe > thead > tr,\n",
       ".dataframe > tbody > tr {\n",
       "  text-align: right;\n",
       "  white-space: pre-wrap;\n",
       "}\n",
       "</style>\n",
       "<small>shape: (163, 2)</small><table border=\"1\" class=\"dataframe\"><thead><tr><th>Name</th><th>Abbrev</th></tr><tr><td>str</td><td>str</td></tr></thead><tbody><tr><td>&quot;Bulbasaur&quot;</td><td>&quot;BUL&quot;</td></tr><tr><td>&quot;Ivysaur&quot;</td><td>&quot;IVY&quot;</td></tr><tr><td>&quot;Venusaur&quot;</td><td>&quot;VEN&quot;</td></tr><tr><td>&quot;VenusaurMega Venusaur&quot;</td><td>&quot;VEN&quot;</td></tr><tr><td>&quot;Charmander&quot;</td><td>&quot;CHA&quot;</td></tr><tr><td>&hellip;</td><td>&hellip;</td></tr><tr><td>&quot;Moltres&quot;</td><td>&quot;MOL&quot;</td></tr><tr><td>&quot;Dratini&quot;</td><td>&quot;DRA&quot;</td></tr><tr><td>&quot;Dragonair&quot;</td><td>&quot;DRA&quot;</td></tr><tr><td>&quot;Dragonite&quot;</td><td>&quot;DRA&quot;</td></tr><tr><td>&quot;Mewtwo&quot;</td><td>&quot;MEW&quot;</td></tr></tbody></table></div>"
      ],
      "text/plain": [
       "shape: (163, 2)\n",
       "┌───────────────────────┬────────┐\n",
       "│ Name                  ┆ Abbrev │\n",
       "│ ---                   ┆ ---    │\n",
       "│ str                   ┆ str    │\n",
       "╞═══════════════════════╪════════╡\n",
       "│ Bulbasaur             ┆ BUL    │\n",
       "│ Ivysaur               ┆ IVY    │\n",
       "│ Venusaur              ┆ VEN    │\n",
       "│ VenusaurMega Venusaur ┆ VEN    │\n",
       "│ Charmander            ┆ CHA    │\n",
       "│ …                     ┆ …      │\n",
       "│ Moltres               ┆ MOL    │\n",
       "│ Dratini               ┆ DRA    │\n",
       "│ Dragonair             ┆ DRA    │\n",
       "│ Dragonite             ┆ DRA    │\n",
       "│ Mewtwo                ┆ MEW    │\n",
       "└───────────────────────┴────────┘"
      ]
     },
     "execution_count": 20,
     "metadata": {},
     "output_type": "execute_result"
    }
   ],
   "source": [
    "# SQL\n",
    "# SELECT Name, UPPER(SUBSTRING(Name, 1, 3)) as Abbrev FROM df\n",
    "\n",
    "pl_df.select(\n",
    "    pl.col(\"Name\"),\n",
    "    pl.col(\"Name\").str.head(3).str.to_uppercase().alias(\"Abbrev\"),\n",
    ")"
   ]
  },
  {
   "cell_type": "code",
   "execution_count": null,
   "metadata": {},
   "outputs": [],
   "source": []
  }
 ],
 "metadata": {
  "kernelspec": {
   "display_name": "blog-with-code-nyJ_vejH-py3.10",
   "language": "python",
   "name": "python3"
  },
  "language_info": {
   "codemirror_mode": {
    "name": "ipython",
    "version": 3
   },
   "file_extension": ".py",
   "mimetype": "text/x-python",
   "name": "python",
   "nbconvert_exporter": "python",
   "pygments_lexer": "ipython3",
   "version": "3.10.8"
  }
 },
 "nbformat": 4,
 "nbformat_minor": 2
}
