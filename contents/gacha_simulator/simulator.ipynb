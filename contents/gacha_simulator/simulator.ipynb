{
 "cells": [
  {
   "cell_type": "code",
   "execution_count": null,
   "metadata": {},
   "outputs": [],
   "source": [
    "from dataclasses import dataclass\n",
    "from abc import ABC, abstractmethod\n",
    "from typing import Callable, List\n",
    "\n",
    "import numpy as np"
   ]
  },
  {
   "cell_type": "markdown",
   "metadata": {},
   "source": [
    "TODO: 마르코프 체인 구현해보기"
   ]
  },
  {
   "cell_type": "code",
   "execution_count": null,
   "metadata": {},
   "outputs": [],
   "source": [
    "@dataclass\n",
    "class GachaState:\n",
    "    name: str\n",
    "    items: List[str]\n",
    "    probs: np.ndarray\n",
    "\n",
    "    def spin(self):\n",
    "        return np.random.choice(self.items, p=self.probs)\n",
    "\n",
    "\n",
    "@dataclass\n",
    "class Transition(ABC):\n",
    "    trans_cond: Callable[[], bool]\n",
    "    curr_state: GachaState\n",
    "    next_state: GachaState\n",
    "\n",
    "    def transit(self):\n",
    "        if self.trans_cond():\n",
    "            return self.next_state\n",
    "        return self.curr_state\n",
    "\n",
    "    @abstractmethod\n",
    "    def _after_transition(self):\n",
    "        pass\n",
    "\n",
    "\n",
    "class StackTransition(Transition):\n",
    "    def __init__(\n",
    "        self,\n",
    "        trans_cond: Callable[[], bool],\n",
    "        stack_up_cond: Callable[[], bool],\n",
    "        curr_state: GachaState,\n",
    "        next_state: GachaState,\n",
    "    ):\n",
    "        super().__init__(trans_cond, stack_up_cond, curr_state, next_state)\n",
    "        self.stack = 0\n",
    "\n",
    "    def stack_up(self):\n",
    "        if self.stack_up_cond():\n",
    "            self.stack += 1\n",
    "\n",
    "    def _after_transition(self):\n",
    "        self.stack = 0\n",
    "\n",
    "\n",
    "class GachaMachine:\n",
    "    def __init__(self, states: List[GachaState], transitions: List[Transition]):\n",
    "        pass\n",
    "\n",
    "    def spin(self):\n",
    "        pass\n",
    "\n",
    "\n",
    "class Simulator:\n",
    "    def __init__(self, n_machines: int, n_spins: int):\n",
    "        self.n_machines = n_machines\n",
    "        self.n_spins = n_spins\n",
    "        self.machines = []\n",
    "        self.results = {i: 0 for i in range(n_machines)}\n",
    "\n",
    "    def run(self):\n",
    "        pass"
   ]
  },
  {
   "cell_type": "code",
   "execution_count": null,
   "metadata": {},
   "outputs": [],
   "source": [
    "items = [\"A\", \"B\", \"C\"]\n",
    "state_default = GachaState(\"Normal\", items, np.array([0.2, 0.3, 0.5]))\n",
    "state_a = GachaState(\"A\", items, np.array([1., 0., 0.]))"
   ]
  },
  {
   "cell_type": "code",
   "execution_count": null,
   "metadata": {},
   "outputs": [],
   "source": [
    "for _ in range(10):\n",
    "    print(state_default.spin())"
   ]
  },
  {
   "cell_type": "code",
   "execution_count": null,
   "metadata": {},
   "outputs": [],
   "source": [
    "trans_cond = lambda x: x == 12\n",
    "stack_up_cond = lambda x: x == \"A\"\n",
    "transition = StackTransition(, state_default, state_a)"
   ]
  },
  {
   "cell_type": "code",
   "execution_count": null,
   "metadata": {},
   "outputs": [],
   "source": [
    "transition.transit()"
   ]
  }
 ],
 "metadata": {
  "kernelspec": {
   "display_name": "blog-with-code-nyJ_vejH-py3.10",
   "language": "python",
   "name": "python3"
  },
  "language_info": {
   "codemirror_mode": {
    "name": "ipython",
    "version": 3
   },
   "file_extension": ".py",
   "mimetype": "text/x-python",
   "name": "python",
   "nbconvert_exporter": "python",
   "pygments_lexer": "ipython3",
   "version": "3.10.8"
  }
 },
 "nbformat": 4,
 "nbformat_minor": 2
}
